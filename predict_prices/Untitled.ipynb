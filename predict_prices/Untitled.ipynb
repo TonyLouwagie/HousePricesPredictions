{
 "cells": [
  {
   "cell_type": "code",
   "execution_count": null,
   "id": "5d4b57ae-2cd3-4478-8f09-10bface109d3",
   "metadata": {},
   "outputs": [],
   "source": [
    "\n",
    "\n",
    "    \n",
    "\n",
    "\n",
    "\n",
    "    \n",
    "\n",
    "    # 4. Read in test data and apply data prep from step 1\n",
    "    test_df = data_prep.load_data(test_filepath)\n",
    "    champ_categorical_encoders = data_prep.CategoricalEncoders(champ_cat_enc, champ_ord_enc)\n",
    "    test_data_prep_inputs = data_prep.TestDataPrepInputs(test_df, champ_categorical_encoders, include_categoricals)\n",
    "    test_X = test_data_prep_inputs.test_data_prep()\n",
    "\n",
    "    # 5. predict test data and output to csv\n",
    "    # the model was trained against log transformed target. Invert log for predictions\n",
    "    test_y = np.exp(champ_model.predict(test_X))\n",
    "    print(test_X.head())\n",
    "\n",
    "    test_y = pd.DataFrame(test_y, columns=[target_variable], index=test_X.index)\n",
    "\n",
    "    test_y.to_csv('prediction.csv')"
   ]
  },
  {
   "cell_type": "code",
   "execution_count": 1,
   "id": "39317342-7c6f-4775-b009-445354865521",
   "metadata": {},
   "outputs": [],
   "source": [
    "import lightgbm\n",
    "import numpy as np\n",
    "import pandas as pd\n",
    "from sklearn import ensemble, linear_model # type: ignore\n",
    "import xgboost\n",
    "\n",
    "import cross_validation\n",
    "import data_prep"
   ]
  },
  {
   "cell_type": "code",
   "execution_count": 2,
   "id": "600ff357-36f2-4fe1-a917-a0126fb72318",
   "metadata": {},
   "outputs": [],
   "source": [
    "train_filepath = \"data/train.csv\"\n",
    "test_filepath = \"data/test.csv\"\n",
    "\n",
    "target_variable = 'SalePrice'\n",
    "# temporary variable to remove categoricals\n",
    "include_categoricals = True\n",
    "# number of folds to cross-validate across\n",
    "folds = 2\n",
    "# model to cross validate\n",
    "lr = linear_model.LinearRegression()\n",
    "ohe_bool = False\n",
    "n_iter = 2"
   ]
  },
  {
   "cell_type": "code",
   "execution_count": 3,
   "id": "6344fd44-3e8b-4db5-b572-356643c1fa9c",
   "metadata": {},
   "outputs": [],
   "source": [
    "lgbm = lightgbm.LGBMRegressor(verbose=-1)\n",
    "lgbm_param_grid = {\n",
    "    'max_depth': tuple(range(1, 100)),\n",
    "    'num_leaves': tuple(range(1, 100000, 100))\n",
    "}"
   ]
  },
  {
   "cell_type": "code",
   "execution_count": 4,
   "id": "67b0a686-8e70-4e7f-bd7c-d03d0793fb94",
   "metadata": {},
   "outputs": [],
   "source": [
    "# 1. read in training data, perform data prep\n",
    "train_df = data_prep.load_data(train_filepath)\n",
    "train_data_prep_inputs = data_prep.TrainDataPrepInputs(train_df, ohe_bool, target_variable, include_categoricals)\n",
    "train_data_prep_outputs = train_data_prep_inputs.train_data_prep()"
   ]
  },
  {
   "cell_type": "code",
   "execution_count": 5,
   "id": "8a5f9860-5b6c-4069-9e55-6a6e4deb9fde",
   "metadata": {},
   "outputs": [],
   "source": [
    "lgbm = cross_validation.bayes_cross_validation(lgbm, train_data_prep_outputs.train_data, lgbm_param_grid, n_iter)\n",
    "lgbm_param_scores = cross_validation.save_model_performance_parameters(lgbm, folds, train_data_prep_outputs)"
   ]
  },
  {
   "cell_type": "code",
   "execution_count": 6,
   "id": "17ffbe3d-359c-4cc3-bb2b-61b65406856a",
   "metadata": {},
   "outputs": [],
   "source": [
    "# 3. Compare performance and select best model\n",
    "# models = [lr_param_scores, rf_param_scores, xgb_param_scores, lgbm_param_scores, en_param_scores, lasso_param_scores,\n",
    "#           ridge_param_scores, br_param_scores]\n",
    "models = [lgbm_param_scores]\n",
    "param_scores = pd.DataFrame(models).sort_values('score', ascending=False)"
   ]
  },
  {
   "cell_type": "code",
   "execution_count": 7,
   "id": "b0c73990-4841-472d-9942-545207729ef9",
   "metadata": {},
   "outputs": [
    {
     "name": "stdout",
     "output_type": "stream",
     "text": [
      "                                               model    score  standard_dev\n",
      "0  BayesSearchCV(cv=4, estimator=LGBMRegressor(ve...  0.88335      0.006828\n"
     ]
    }
   ],
   "source": [
    "print(param_scores[['model', 'score', 'standard_dev']])\n",
    "\n",
    "# take only first row in case of ties (I don't care which model if they're tied)\n",
    "champ = param_scores[param_scores.score == param_scores.score.max()].reset_index()\n",
    "champ_model = champ.model[0]\n",
    "champ_ord_enc = champ.ordinal_encoder[0]\n",
    "champ_cat_enc = champ.categorical_encoder[0]"
   ]
  },
  {
   "cell_type": "code",
   "execution_count": 8,
   "id": "e8a5422a-d0f5-44cb-bb2c-fb01bef2e13f",
   "metadata": {},
   "outputs": [
    {
     "data": {
      "text/plain": [
       "Id\n",
       "1       4.0\n",
       "2       4.0\n",
       "3       4.0\n",
       "4       1.0\n",
       "5       4.0\n",
       "       ... \n",
       "1456    4.0\n",
       "1457    4.0\n",
       "1458    1.0\n",
       "1459    4.0\n",
       "1460    4.0\n",
       "Name: BsmtCond, Length: 1460, dtype: float64"
      ]
     },
     "execution_count": 8,
     "metadata": {},
     "output_type": "execute_result"
    }
   ],
   "source": [
    "train_data_prep_outputs.train_data.X.BsmtCond"
   ]
  },
  {
   "cell_type": "code",
   "execution_count": 9,
   "id": "f74b9e9e-a56d-436b-8c78-45bcfb568ca0",
   "metadata": {},
   "outputs": [],
   "source": [
    "# 4. Read in test data and apply data prep from step 1\n",
    "test_df = data_prep.load_data(test_filepath)\n",
    "champ_categorical_encoders = data_prep.CategoricalEncoders(champ_cat_enc, champ_ord_enc)\n",
    "test_data_prep_inputs = data_prep.TestDataPrepInputs(test_df, champ_categorical_encoders, include_categoricals)\n"
   ]
  },
  {
   "cell_type": "code",
   "execution_count": 10,
   "id": "9fa6e6f1-cc58-4105-8575-7c18e7e8ff5c",
   "metadata": {},
   "outputs": [
    {
     "data": {
      "text/plain": [
       "36      Pave\n",
       "37      Pave\n",
       "38      Pave\n",
       "39      Pave\n",
       "42      Pave\n",
       "        ... \n",
       "1330    Grvl\n",
       "1335    Pave\n",
       "1337    Grvl\n",
       "1410    Grvl\n",
       "1411    Grvl\n",
       "Name: Alley, Length: 107, dtype: object"
      ]
     },
     "execution_count": 10,
     "metadata": {},
     "output_type": "execute_result"
    }
   ],
   "source": [
    "test_data_prep_inputs.test_df.Alley[test_data_prep_inputs.test_df.Alley.isnull() == False]"
   ]
  },
  {
   "cell_type": "code",
   "execution_count": 11,
   "id": "0c6a4536-edb6-4e27-9c10-2645b9b883e4",
   "metadata": {},
   "outputs": [
    {
     "name": "stdout",
     "output_type": "stream",
     "text": [
      "Id                 object\n",
      "MSSubClass       category\n",
      "MSZoning         category\n",
      "LotFrontage       float64\n",
      "LotArea             int64\n",
      "                   ...   \n",
      "MoSold              int64\n",
      "YrSold              int64\n",
      "SaleType         category\n",
      "SaleCondition    category\n",
      "TotalBath         float64\n",
      "Length: 81, dtype: object\n",
      "MSSubClass       category\n",
      "MSZoning         category\n",
      "LotFrontage       float64\n",
      "LotArea           float64\n",
      "Street           category\n",
      "                   ...   \n",
      "MoSold            float64\n",
      "YrSold            float64\n",
      "SaleType         category\n",
      "SaleCondition    category\n",
      "TotalBath         float64\n",
      "Length: 80, dtype: object\n"
     ]
    },
    {
     "ename": "ValueError",
     "evalue": "The feature names should match those that were passed during fit.\nFeature names unseen at fit time:\n- BsmtCond\n- BsmtExposure\n- BsmtFinType1\n- BsmtFinType2\n- BsmtQual\n- ...\nFeature names seen at fit time, yet now missing:\n- Alley\n- BldgType\n- Condition1\n- Condition2\n- Electrical\n- ...\n",
     "output_type": "error",
     "traceback": [
      "\u001b[0;31m---------------------------------------------------------------------------\u001b[0m",
      "\u001b[0;31mValueError\u001b[0m                                Traceback (most recent call last)",
      "Cell \u001b[0;32mIn[11], line 1\u001b[0m\n\u001b[0;32m----> 1\u001b[0m test_X \u001b[38;5;241m=\u001b[39m \u001b[43mtest_data_prep_inputs\u001b[49m\u001b[38;5;241;43m.\u001b[39;49m\u001b[43mtest_data_prep\u001b[49m\u001b[43m(\u001b[49m\u001b[43m)\u001b[49m\n",
      "File \u001b[0;32m~/git/HousePricesPredictions/predict_prices/data_prep.py:113\u001b[0m, in \u001b[0;36mTestDataPrepInputs.test_data_prep\u001b[0;34m(self)\u001b[0m\n\u001b[1;32m    111\u001b[0m test_df, _ \u001b[38;5;241m=\u001b[39m clean_after_eda(test_df)\n\u001b[1;32m    112\u001b[0m \u001b[38;5;28mprint\u001b[39m(test_df\u001b[38;5;241m.\u001b[39mdtypes)\n\u001b[0;32m--> 113\u001b[0m test_df \u001b[38;5;241m=\u001b[39m \u001b[43mordinal_transform\u001b[49m\u001b[43m(\u001b[49m\u001b[43mtest_df\u001b[49m\u001b[43m,\u001b[49m\u001b[43m \u001b[49m\u001b[38;5;28;43mself\u001b[39;49m\u001b[38;5;241;43m.\u001b[39;49m\u001b[43mcategorical_encoders\u001b[49m\u001b[38;5;241;43m.\u001b[39;49m\u001b[43mordinal_encoder\u001b[49m\u001b[43m)\u001b[49m\n\u001b[1;32m    114\u001b[0m \u001b[38;5;28mprint\u001b[39m(test_df\u001b[38;5;241m.\u001b[39mdtypes)\n\u001b[1;32m    115\u001b[0m test_df \u001b[38;5;241m=\u001b[39m categorical_transform(test_df, \u001b[38;5;28mself\u001b[39m\u001b[38;5;241m.\u001b[39mcategorical_encoders\u001b[38;5;241m.\u001b[39mcategorical_encoder)\n",
      "File \u001b[0;32m~/git/HousePricesPredictions/predict_prices/data_prep.py:215\u001b[0m, in \u001b[0;36mordinal_transform\u001b[0;34m(df, enc)\u001b[0m\n\u001b[1;32m    208\u001b[0m \u001b[38;5;250m\u001b[39m\u001b[38;5;124;03m\"\"\"\u001b[39;00m\n\u001b[1;32m    209\u001b[0m \u001b[38;5;124;03muse fit ordinal encoder to transform ordinal columns\u001b[39;00m\n\u001b[1;32m    210\u001b[0m \u001b[38;5;124;03m:param df:\u001b[39;00m\n\u001b[1;32m    211\u001b[0m \u001b[38;5;124;03m:param enc: OrdinalEncoder\u001b[39;00m\n\u001b[1;32m    212\u001b[0m \u001b[38;5;124;03m:return:\u001b[39;00m\n\u001b[1;32m    213\u001b[0m \u001b[38;5;124;03m\"\"\"\u001b[39;00m\n\u001b[1;32m    214\u001b[0m ordinals \u001b[38;5;241m=\u001b[39m \u001b[38;5;28mlist\u001b[39m(_ORDERED_CATEGORICALS\u001b[38;5;241m.\u001b[39mkeys())\n\u001b[0;32m--> 215\u001b[0m df[ordinals] \u001b[38;5;241m=\u001b[39m \u001b[43menc\u001b[49m\u001b[38;5;241;43m.\u001b[39;49m\u001b[43mtransform\u001b[49m\u001b[43m(\u001b[49m\u001b[43mdf\u001b[49m\u001b[43m[\u001b[49m\u001b[43mordinals\u001b[49m\u001b[43m]\u001b[49m\u001b[43m)\u001b[49m\n\u001b[1;32m    217\u001b[0m \u001b[38;5;28;01mreturn\u001b[39;00m df\n",
      "File \u001b[0;32m~/Library/Caches/pypoetry/virtualenvs/housepricespredictions-5BzsoVvJ-py3.12/lib/python3.12/site-packages/sklearn/utils/_set_output.py:316\u001b[0m, in \u001b[0;36m_wrap_method_output.<locals>.wrapped\u001b[0;34m(self, X, *args, **kwargs)\u001b[0m\n\u001b[1;32m    314\u001b[0m \u001b[38;5;129m@wraps\u001b[39m(f)\n\u001b[1;32m    315\u001b[0m \u001b[38;5;28;01mdef\u001b[39;00m \u001b[38;5;21mwrapped\u001b[39m(\u001b[38;5;28mself\u001b[39m, X, \u001b[38;5;241m*\u001b[39margs, \u001b[38;5;241m*\u001b[39m\u001b[38;5;241m*\u001b[39mkwargs):\n\u001b[0;32m--> 316\u001b[0m     data_to_wrap \u001b[38;5;241m=\u001b[39m \u001b[43mf\u001b[49m\u001b[43m(\u001b[49m\u001b[38;5;28;43mself\u001b[39;49m\u001b[43m,\u001b[49m\u001b[43m \u001b[49m\u001b[43mX\u001b[49m\u001b[43m,\u001b[49m\u001b[43m \u001b[49m\u001b[38;5;241;43m*\u001b[39;49m\u001b[43margs\u001b[49m\u001b[43m,\u001b[49m\u001b[43m \u001b[49m\u001b[38;5;241;43m*\u001b[39;49m\u001b[38;5;241;43m*\u001b[39;49m\u001b[43mkwargs\u001b[49m\u001b[43m)\u001b[49m\n\u001b[1;32m    317\u001b[0m     \u001b[38;5;28;01mif\u001b[39;00m \u001b[38;5;28misinstance\u001b[39m(data_to_wrap, \u001b[38;5;28mtuple\u001b[39m):\n\u001b[1;32m    318\u001b[0m         \u001b[38;5;66;03m# only wrap the first output for cross decomposition\u001b[39;00m\n\u001b[1;32m    319\u001b[0m         return_tuple \u001b[38;5;241m=\u001b[39m (\n\u001b[1;32m    320\u001b[0m             _wrap_data_with_container(method, data_to_wrap[\u001b[38;5;241m0\u001b[39m], X, \u001b[38;5;28mself\u001b[39m),\n\u001b[1;32m    321\u001b[0m             \u001b[38;5;241m*\u001b[39mdata_to_wrap[\u001b[38;5;241m1\u001b[39m:],\n\u001b[1;32m    322\u001b[0m         )\n",
      "File \u001b[0;32m~/Library/Caches/pypoetry/virtualenvs/housepricespredictions-5BzsoVvJ-py3.12/lib/python3.12/site-packages/sklearn/preprocessing/_encoders.py:1578\u001b[0m, in \u001b[0;36mOrdinalEncoder.transform\u001b[0;34m(self, X)\u001b[0m\n\u001b[1;32m   1564\u001b[0m \u001b[38;5;250m\u001b[39m\u001b[38;5;124;03m\"\"\"\u001b[39;00m\n\u001b[1;32m   1565\u001b[0m \u001b[38;5;124;03mTransform X to ordinal codes.\u001b[39;00m\n\u001b[1;32m   1566\u001b[0m \n\u001b[0;32m   (...)\u001b[0m\n\u001b[1;32m   1575\u001b[0m \u001b[38;5;124;03m    Transformed input.\u001b[39;00m\n\u001b[1;32m   1576\u001b[0m \u001b[38;5;124;03m\"\"\"\u001b[39;00m\n\u001b[1;32m   1577\u001b[0m check_is_fitted(\u001b[38;5;28mself\u001b[39m, \u001b[38;5;124m\"\u001b[39m\u001b[38;5;124mcategories_\u001b[39m\u001b[38;5;124m\"\u001b[39m)\n\u001b[0;32m-> 1578\u001b[0m X_int, X_mask \u001b[38;5;241m=\u001b[39m \u001b[38;5;28;43mself\u001b[39;49m\u001b[38;5;241;43m.\u001b[39;49m\u001b[43m_transform\u001b[49m\u001b[43m(\u001b[49m\n\u001b[1;32m   1579\u001b[0m \u001b[43m    \u001b[49m\u001b[43mX\u001b[49m\u001b[43m,\u001b[49m\n\u001b[1;32m   1580\u001b[0m \u001b[43m    \u001b[49m\u001b[43mhandle_unknown\u001b[49m\u001b[38;5;241;43m=\u001b[39;49m\u001b[38;5;28;43mself\u001b[39;49m\u001b[38;5;241;43m.\u001b[39;49m\u001b[43mhandle_unknown\u001b[49m\u001b[43m,\u001b[49m\n\u001b[1;32m   1581\u001b[0m \u001b[43m    \u001b[49m\u001b[43mforce_all_finite\u001b[49m\u001b[38;5;241;43m=\u001b[39;49m\u001b[38;5;124;43m\"\u001b[39;49m\u001b[38;5;124;43mallow-nan\u001b[39;49m\u001b[38;5;124;43m\"\u001b[39;49m\u001b[43m,\u001b[49m\n\u001b[1;32m   1582\u001b[0m \u001b[43m    \u001b[49m\u001b[43mignore_category_indices\u001b[49m\u001b[38;5;241;43m=\u001b[39;49m\u001b[38;5;28;43mself\u001b[39;49m\u001b[38;5;241;43m.\u001b[39;49m\u001b[43m_missing_indices\u001b[49m\u001b[43m,\u001b[49m\n\u001b[1;32m   1583\u001b[0m \u001b[43m\u001b[49m\u001b[43m)\u001b[49m\n\u001b[1;32m   1584\u001b[0m X_trans \u001b[38;5;241m=\u001b[39m X_int\u001b[38;5;241m.\u001b[39mastype(\u001b[38;5;28mself\u001b[39m\u001b[38;5;241m.\u001b[39mdtype, copy\u001b[38;5;241m=\u001b[39m\u001b[38;5;28;01mFalse\u001b[39;00m)\n\u001b[1;32m   1586\u001b[0m \u001b[38;5;28;01mfor\u001b[39;00m cat_idx, missing_idx \u001b[38;5;129;01min\u001b[39;00m \u001b[38;5;28mself\u001b[39m\u001b[38;5;241m.\u001b[39m_missing_indices\u001b[38;5;241m.\u001b[39mitems():\n",
      "File \u001b[0;32m~/Library/Caches/pypoetry/virtualenvs/housepricespredictions-5BzsoVvJ-py3.12/lib/python3.12/site-packages/sklearn/preprocessing/_encoders.py:197\u001b[0m, in \u001b[0;36m_BaseEncoder._transform\u001b[0;34m(self, X, handle_unknown, force_all_finite, warn_on_unknown, ignore_category_indices)\u001b[0m\n\u001b[1;32m    186\u001b[0m \u001b[38;5;28;01mdef\u001b[39;00m \u001b[38;5;21m_transform\u001b[39m(\n\u001b[1;32m    187\u001b[0m     \u001b[38;5;28mself\u001b[39m,\n\u001b[1;32m    188\u001b[0m     X,\n\u001b[0;32m   (...)\u001b[0m\n\u001b[1;32m    192\u001b[0m     ignore_category_indices\u001b[38;5;241m=\u001b[39m\u001b[38;5;28;01mNone\u001b[39;00m,\n\u001b[1;32m    193\u001b[0m ):\n\u001b[1;32m    194\u001b[0m     X_list, n_samples, n_features \u001b[38;5;241m=\u001b[39m \u001b[38;5;28mself\u001b[39m\u001b[38;5;241m.\u001b[39m_check_X(\n\u001b[1;32m    195\u001b[0m         X, force_all_finite\u001b[38;5;241m=\u001b[39mforce_all_finite\n\u001b[1;32m    196\u001b[0m     )\n\u001b[0;32m--> 197\u001b[0m     \u001b[38;5;28;43mself\u001b[39;49m\u001b[38;5;241;43m.\u001b[39;49m\u001b[43m_check_feature_names\u001b[49m\u001b[43m(\u001b[49m\u001b[43mX\u001b[49m\u001b[43m,\u001b[49m\u001b[43m \u001b[49m\u001b[43mreset\u001b[49m\u001b[38;5;241;43m=\u001b[39;49m\u001b[38;5;28;43;01mFalse\u001b[39;49;00m\u001b[43m)\u001b[49m\n\u001b[1;32m    198\u001b[0m     \u001b[38;5;28mself\u001b[39m\u001b[38;5;241m.\u001b[39m_check_n_features(X, reset\u001b[38;5;241m=\u001b[39m\u001b[38;5;28;01mFalse\u001b[39;00m)\n\u001b[1;32m    200\u001b[0m     X_int \u001b[38;5;241m=\u001b[39m np\u001b[38;5;241m.\u001b[39mzeros((n_samples, n_features), dtype\u001b[38;5;241m=\u001b[39m\u001b[38;5;28mint\u001b[39m)\n",
      "File \u001b[0;32m~/Library/Caches/pypoetry/virtualenvs/housepricespredictions-5BzsoVvJ-py3.12/lib/python3.12/site-packages/sklearn/base.py:535\u001b[0m, in \u001b[0;36mBaseEstimator._check_feature_names\u001b[0;34m(self, X, reset)\u001b[0m\n\u001b[1;32m    530\u001b[0m \u001b[38;5;28;01mif\u001b[39;00m \u001b[38;5;129;01mnot\u001b[39;00m missing_names \u001b[38;5;129;01mand\u001b[39;00m \u001b[38;5;129;01mnot\u001b[39;00m unexpected_names:\n\u001b[1;32m    531\u001b[0m     message \u001b[38;5;241m+\u001b[39m\u001b[38;5;241m=\u001b[39m (\n\u001b[1;32m    532\u001b[0m         \u001b[38;5;124m\"\u001b[39m\u001b[38;5;124mFeature names must be in the same order as they were in fit.\u001b[39m\u001b[38;5;130;01m\\n\u001b[39;00m\u001b[38;5;124m\"\u001b[39m\n\u001b[1;32m    533\u001b[0m     )\n\u001b[0;32m--> 535\u001b[0m \u001b[38;5;28;01mraise\u001b[39;00m \u001b[38;5;167;01mValueError\u001b[39;00m(message)\n",
      "\u001b[0;31mValueError\u001b[0m: The feature names should match those that were passed during fit.\nFeature names unseen at fit time:\n- BsmtCond\n- BsmtExposure\n- BsmtFinType1\n- BsmtFinType2\n- BsmtQual\n- ...\nFeature names seen at fit time, yet now missing:\n- Alley\n- BldgType\n- Condition1\n- Condition2\n- Electrical\n- ...\n"
     ]
    }
   ],
   "source": [
    "test_X = test_data_prep_inputs.test_data_prep()"
   ]
  },
  {
   "cell_type": "code",
   "execution_count": null,
   "id": "ae3f8482-fca7-4fa6-b9ce-23aded0efa6a",
   "metadata": {},
   "outputs": [],
   "source": []
  }
 ],
 "metadata": {
  "kernelspec": {
   "display_name": "Python 3 (ipykernel)",
   "language": "python",
   "name": "python3"
  },
  "language_info": {
   "codemirror_mode": {
    "name": "ipython",
    "version": 3
   },
   "file_extension": ".py",
   "mimetype": "text/x-python",
   "name": "python",
   "nbconvert_exporter": "python",
   "pygments_lexer": "ipython3",
   "version": "3.12.4"
  }
 },
 "nbformat": 4,
 "nbformat_minor": 5
}
