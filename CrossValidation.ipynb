{
 "cells": [
  {
   "cell_type": "code",
   "execution_count": 1,
   "id": "3214e7a1-9e4b-4844-8fbd-b1b15f029ffd",
   "metadata": {},
   "outputs": [],
   "source": [
    "from sklearn.linear_model import LinearRegression\n",
    "\n",
    "import data_prep\n",
    "import cross_validation"
   ]
  },
  {
   "cell_type": "code",
   "execution_count": 2,
   "id": "2b7a33f9-a660-4d8b-9ffe-86588770da93",
   "metadata": {},
   "outputs": [],
   "source": [
    "fp = \"data/train.csv\"\n",
    "tgt = 'SalePrice'\n",
    "include_categoricals = False\n",
    "folds = 4\n",
    "\n",
    "df = data_prep.load_and_clean(fp)\n",
    "df, _ = data_prep.clean_after_eda(df)\n",
    "X, y = data_prep.split_x_y(df, tgt, include_categoricals)"
   ]
  },
  {
   "cell_type": "code",
   "execution_count": 3,
   "id": "1cae19e9-dc67-4b0e-8e0d-a78e27f13fa4",
   "metadata": {},
   "outputs": [],
   "source": [
    "lr = LinearRegression()\n",
    "aggregate_scores = cross_validation.cross_val_aggregate(lr, X, y, folds)"
   ]
  },
  {
   "cell_type": "code",
   "execution_count": 4,
   "id": "9a0dccc0-6e7b-4fa0-8fe3-e451bcf2d0cb",
   "metadata": {},
   "outputs": [
    {
     "data": {
      "text/plain": [
       "{'Mean': np.float64(0.7815568039711746),\n",
       " 'Standard Deviation': np.float64(0.07158113275494551)}"
      ]
     },
     "execution_count": 4,
     "metadata": {},
     "output_type": "execute_result"
    }
   ],
   "source": [
    "aggregate_scores"
   ]
  }
 ],
 "metadata": {
  "kernelspec": {
   "display_name": "Python 3 (ipykernel)",
   "language": "python",
   "name": "python3"
  },
  "language_info": {
   "codemirror_mode": {
    "name": "ipython",
    "version": 3
   },
   "file_extension": ".py",
   "mimetype": "text/x-python",
   "name": "python",
   "nbconvert_exporter": "python",
   "pygments_lexer": "ipython3",
   "version": "3.12.4"
  }
 },
 "nbformat": 4,
 "nbformat_minor": 5
}
